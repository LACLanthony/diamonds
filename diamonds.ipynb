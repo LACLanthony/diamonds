{
  "nbformat": 4,
  "nbformat_minor": 0,
  "metadata": {
    "colab": {
      "provenance": []
    },
    "kernelspec": {
      "name": "python3",
      "display_name": "Python 3"
    },
    "language_info": {
      "name": "python"
    }
  },
  "cells": [
    {
      "cell_type": "markdown",
      "source": [
        "Table of Contents\n",
        "\n",
        "1. [Importing Packages and Reading in the Data](https://colab.research.google.com/drive/1Z2i1e2BXSovUkfoXZyjcRl-mEgYRS-NI#scrollTo=Q490onU_xWnf&line=2&uniqifier=1)\n",
        "\n",
        "2. [Data Information](https://colab.research.google.com/drive/1Z2i1e2BXSovUkfoXZyjcRl-mEgYRS-NI#scrollTo=gqOyfk0rxlqW&line=1&uniqifier=1)\n",
        "\n",
        "3. [Data Analytics](https://colab.research.google.com/drive/1Z2i1e2BXSovUkfoXZyjcRl-mEgYRS-NI#scrollTo=vOBKBQ67u8pt&line=1&uniqifier=1)\n"
      ],
      "metadata": {
        "id": "7Ch5gWrD0Xo3"
      }
    },
    {
      "cell_type": "markdown",
      "source": [
        "# Importing Packages and Reading in the Data"
      ],
      "metadata": {
        "id": "KjG37iIVMhMi"
      }
    },
    {
      "cell_type": "code",
      "execution_count": 1,
      "metadata": {
        "colab": {
          "base_uri": "https://localhost:8080/"
        },
        "id": "Q490onU_xWnf",
        "outputId": "a18e3f65-eae5-4617-a5b2-70a0628c0bdd"
      },
      "outputs": [
        {
          "output_type": "stream",
          "name": "stdout",
          "text": [
            "Mounted at /content/gdrive/\n"
          ]
        }
      ],
      "source": [
        "from google.colab import drive\n",
        "drive.mount('/content/gdrive/')\n",
        "\n",
        "path = '/content/gdrive/MyDrive/data/'\n",
        "csv = 'diamonds.csv'"
      ]
    },
    {
      "cell_type": "code",
      "source": [
        "import pandas as pd\n",
        "import numpy as np\n",
        "import matplotlib.pyplot as plt\n",
        "import missingno as msngo\n",
        "import plotly.offline as pyo\n",
        "import plotly.graph_objects as go\n",
        "import seaborn as sns"
      ],
      "metadata": {
        "id": "ypyCyBR7xlWW"
      },
      "execution_count": 2,
      "outputs": []
    },
    {
      "cell_type": "markdown",
      "source": [
        "Reading in the data"
      ],
      "metadata": {
        "id": "0AP_pgsC33kN"
      }
    },
    {
      "cell_type": "code",
      "source": [
        "df = pd.read_csv(path+csv)"
      ],
      "metadata": {
        "id": "ZZd87Vaixllv"
      },
      "execution_count": 3,
      "outputs": []
    },
    {
      "cell_type": "markdown",
      "source": [
        "View of the data frame. There appears to be elements in the variables 'color' and 'clarity' that have the letter 'b' that needs to be removed. "
      ],
      "metadata": {
        "id": "XF4DOm5_37N6"
      }
    },
    {
      "cell_type": "code",
      "source": [
        "df.head(3)"
      ],
      "metadata": {
        "colab": {
          "base_uri": "https://localhost:8080/",
          "height": 143
        },
        "id": "gqOyfk0rxlqW",
        "outputId": "b04bd312-4377-4cd9-d6ff-a491e8cebd2b"
      },
      "execution_count": 4,
      "outputs": [
        {
          "output_type": "execute_result",
          "data": {
            "text/plain": [
              "   carat         cut color clarity  depth  table  price   'x'   'y'   'z'\n",
              "0   0.23    b'Ideal'  b'E'  b'SI2'   61.5   55.0  326.0  3.95  3.98  2.43\n",
              "1   0.21  b'Premium'  b'E'  b'SI1'   59.8   61.0  326.0  3.89  3.84  2.31\n",
              "2   0.23     b'Good'  b'E'  b'VS1'   56.9   65.0  327.0  4.05  4.07  2.31"
            ],
            "text/html": [
              "\n",
              "  <div id=\"df-6b3256a9-0e78-4995-aefe-7aa217c99f29\">\n",
              "    <div class=\"colab-df-container\">\n",
              "      <div>\n",
              "<style scoped>\n",
              "    .dataframe tbody tr th:only-of-type {\n",
              "        vertical-align: middle;\n",
              "    }\n",
              "\n",
              "    .dataframe tbody tr th {\n",
              "        vertical-align: top;\n",
              "    }\n",
              "\n",
              "    .dataframe thead th {\n",
              "        text-align: right;\n",
              "    }\n",
              "</style>\n",
              "<table border=\"1\" class=\"dataframe\">\n",
              "  <thead>\n",
              "    <tr style=\"text-align: right;\">\n",
              "      <th></th>\n",
              "      <th>carat</th>\n",
              "      <th>cut</th>\n",
              "      <th>color</th>\n",
              "      <th>clarity</th>\n",
              "      <th>depth</th>\n",
              "      <th>table</th>\n",
              "      <th>price</th>\n",
              "      <th>'x'</th>\n",
              "      <th>'y'</th>\n",
              "      <th>'z'</th>\n",
              "    </tr>\n",
              "  </thead>\n",
              "  <tbody>\n",
              "    <tr>\n",
              "      <th>0</th>\n",
              "      <td>0.23</td>\n",
              "      <td>b'Ideal'</td>\n",
              "      <td>b'E'</td>\n",
              "      <td>b'SI2'</td>\n",
              "      <td>61.5</td>\n",
              "      <td>55.0</td>\n",
              "      <td>326.0</td>\n",
              "      <td>3.95</td>\n",
              "      <td>3.98</td>\n",
              "      <td>2.43</td>\n",
              "    </tr>\n",
              "    <tr>\n",
              "      <th>1</th>\n",
              "      <td>0.21</td>\n",
              "      <td>b'Premium'</td>\n",
              "      <td>b'E'</td>\n",
              "      <td>b'SI1'</td>\n",
              "      <td>59.8</td>\n",
              "      <td>61.0</td>\n",
              "      <td>326.0</td>\n",
              "      <td>3.89</td>\n",
              "      <td>3.84</td>\n",
              "      <td>2.31</td>\n",
              "    </tr>\n",
              "    <tr>\n",
              "      <th>2</th>\n",
              "      <td>0.23</td>\n",
              "      <td>b'Good'</td>\n",
              "      <td>b'E'</td>\n",
              "      <td>b'VS1'</td>\n",
              "      <td>56.9</td>\n",
              "      <td>65.0</td>\n",
              "      <td>327.0</td>\n",
              "      <td>4.05</td>\n",
              "      <td>4.07</td>\n",
              "      <td>2.31</td>\n",
              "    </tr>\n",
              "  </tbody>\n",
              "</table>\n",
              "</div>\n",
              "      <button class=\"colab-df-convert\" onclick=\"convertToInteractive('df-6b3256a9-0e78-4995-aefe-7aa217c99f29')\"\n",
              "              title=\"Convert this dataframe to an interactive table.\"\n",
              "              style=\"display:none;\">\n",
              "        \n",
              "  <svg xmlns=\"http://www.w3.org/2000/svg\" height=\"24px\"viewBox=\"0 0 24 24\"\n",
              "       width=\"24px\">\n",
              "    <path d=\"M0 0h24v24H0V0z\" fill=\"none\"/>\n",
              "    <path d=\"M18.56 5.44l.94 2.06.94-2.06 2.06-.94-2.06-.94-.94-2.06-.94 2.06-2.06.94zm-11 1L8.5 8.5l.94-2.06 2.06-.94-2.06-.94L8.5 2.5l-.94 2.06-2.06.94zm10 10l.94 2.06.94-2.06 2.06-.94-2.06-.94-.94-2.06-.94 2.06-2.06.94z\"/><path d=\"M17.41 7.96l-1.37-1.37c-.4-.4-.92-.59-1.43-.59-.52 0-1.04.2-1.43.59L10.3 9.45l-7.72 7.72c-.78.78-.78 2.05 0 2.83L4 21.41c.39.39.9.59 1.41.59.51 0 1.02-.2 1.41-.59l7.78-7.78 2.81-2.81c.8-.78.8-2.07 0-2.86zM5.41 20L4 18.59l7.72-7.72 1.47 1.35L5.41 20z\"/>\n",
              "  </svg>\n",
              "      </button>\n",
              "      \n",
              "  <style>\n",
              "    .colab-df-container {\n",
              "      display:flex;\n",
              "      flex-wrap:wrap;\n",
              "      gap: 12px;\n",
              "    }\n",
              "\n",
              "    .colab-df-convert {\n",
              "      background-color: #E8F0FE;\n",
              "      border: none;\n",
              "      border-radius: 50%;\n",
              "      cursor: pointer;\n",
              "      display: none;\n",
              "      fill: #1967D2;\n",
              "      height: 32px;\n",
              "      padding: 0 0 0 0;\n",
              "      width: 32px;\n",
              "    }\n",
              "\n",
              "    .colab-df-convert:hover {\n",
              "      background-color: #E2EBFA;\n",
              "      box-shadow: 0px 1px 2px rgba(60, 64, 67, 0.3), 0px 1px 3px 1px rgba(60, 64, 67, 0.15);\n",
              "      fill: #174EA6;\n",
              "    }\n",
              "\n",
              "    [theme=dark] .colab-df-convert {\n",
              "      background-color: #3B4455;\n",
              "      fill: #D2E3FC;\n",
              "    }\n",
              "\n",
              "    [theme=dark] .colab-df-convert:hover {\n",
              "      background-color: #434B5C;\n",
              "      box-shadow: 0px 1px 3px 1px rgba(0, 0, 0, 0.15);\n",
              "      filter: drop-shadow(0px 1px 2px rgba(0, 0, 0, 0.3));\n",
              "      fill: #FFFFFF;\n",
              "    }\n",
              "  </style>\n",
              "\n",
              "      <script>\n",
              "        const buttonEl =\n",
              "          document.querySelector('#df-6b3256a9-0e78-4995-aefe-7aa217c99f29 button.colab-df-convert');\n",
              "        buttonEl.style.display =\n",
              "          google.colab.kernel.accessAllowed ? 'block' : 'none';\n",
              "\n",
              "        async function convertToInteractive(key) {\n",
              "          const element = document.querySelector('#df-6b3256a9-0e78-4995-aefe-7aa217c99f29');\n",
              "          const dataTable =\n",
              "            await google.colab.kernel.invokeFunction('convertToInteractive',\n",
              "                                                     [key], {});\n",
              "          if (!dataTable) return;\n",
              "\n",
              "          const docLinkHtml = 'Like what you see? Visit the ' +\n",
              "            '<a target=\"_blank\" href=https://colab.research.google.com/notebooks/data_table.ipynb>data table notebook</a>'\n",
              "            + ' to learn more about interactive tables.';\n",
              "          element.innerHTML = '';\n",
              "          dataTable['output_type'] = 'display_data';\n",
              "          await google.colab.output.renderOutput(dataTable, element);\n",
              "          const docLink = document.createElement('div');\n",
              "          docLink.innerHTML = docLinkHtml;\n",
              "          element.appendChild(docLink);\n",
              "        }\n",
              "      </script>\n",
              "    </div>\n",
              "  </div>\n",
              "  "
            ]
          },
          "metadata": {},
          "execution_count": 4
        }
      ]
    },
    {
      "cell_type": "code",
      "source": [
        "df.info()"
      ],
      "metadata": {
        "colab": {
          "base_uri": "https://localhost:8080/"
        },
        "id": "gM5WJ_d3xlvk",
        "outputId": "7692b503-e92f-4422-ef4b-d9da379096a3"
      },
      "execution_count": 5,
      "outputs": [
        {
          "output_type": "stream",
          "name": "stdout",
          "text": [
            "<class 'pandas.core.frame.DataFrame'>\n",
            "RangeIndex: 53940 entries, 0 to 53939\n",
            "Data columns (total 10 columns):\n",
            " #   Column   Non-Null Count  Dtype  \n",
            "---  ------   --------------  -----  \n",
            " 0   carat    53940 non-null  float64\n",
            " 1   cut      53940 non-null  object \n",
            " 2   color    53940 non-null  object \n",
            " 3   clarity  53940 non-null  object \n",
            " 4   depth    53940 non-null  float64\n",
            " 5   table    53940 non-null  float64\n",
            " 6   price    53940 non-null  float64\n",
            " 7   'x'      53940 non-null  float64\n",
            " 8   'y'      53940 non-null  float64\n",
            " 9   'z'      53940 non-null  float64\n",
            "dtypes: float64(7), object(3)\n",
            "memory usage: 4.1+ MB\n"
          ]
        }
      ]
    },
    {
      "cell_type": "markdown",
      "source": [
        "As we can see there is no data missing. "
      ],
      "metadata": {
        "id": "A1gUeB9z4ecs"
      }
    },
    {
      "cell_type": "code",
      "source": [
        "msngo.matrix(df)"
      ],
      "metadata": {
        "colab": {
          "base_uri": "https://localhost:8080/",
          "height": 657
        },
        "id": "AosfRhQFxl0c",
        "outputId": "6a2da1bd-465a-4499-d3c5-8d2b1c8ed9dd"
      },
      "execution_count": 6,
      "outputs": [
        {
          "output_type": "execute_result",
          "data": {
            "text/plain": [
              "<Axes: >"
            ]
          },
          "metadata": {},
          "execution_count": 6
        },
        {
          "output_type": "display_data",
          "data": {
            "text/plain": [
              "<Figure size 1800x720 with 2 Axes>"
            ],
            "image/png": "[encoded data removed]"
          },
          "metadata": {
            "needs_background": "light"
          }
        }
      ]
    },
    {
      "cell_type": "markdown",
      "source": [
        "# Cleaning the Data\n"
      ],
      "metadata": {
        "id": "2Ju39VA6Mx7G"
      }
    },
    {
      "cell_type": "markdown",
      "source": [
        "Will be cleaning the data frame by removing the 'b' from the as before mentioned variables 'color' and 'clarity'. \n",
        "\n",
        "![diamonds_clean.PNG](data:image/png;base64,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)"
      ],
      "metadata": {
        "id": "y3iNLrF74kh-"
      }
    },
    {
      "cell_type": "code",
      "source": [
        "df['cut'] = [i.rstrip(\"'\") for i in df['cut']]\n",
        "df['cut'] = [i.strip(\"b'\") for i in df['cut']]\n",
        "\n",
        "df['color'] = [i.rstrip(\"'\") for i in df['color']]\n",
        "df['color'] = [i.strip(\"b'\") for i in df['color']]\n",
        "\n",
        "df['clarity'] = [i.rstrip(\"'\") for i in df['clarity']]\n",
        "df['clarity'] = [i.strip(\"b'\") for i in df['clarity']]\n",
        "\n"
      ],
      "metadata": {
        "id": "B0mPoWPc6vp6"
      },
      "execution_count": 7,
      "outputs": []
    },
    {
      "cell_type": "markdown",
      "source": [
        "Now, the variables that have been cleaned and the \"b''\" has been removed. "
      ],
      "metadata": {
        "id": "XKuEpma1ZtB8"
      }
    },
    {
      "cell_type": "code",
      "source": [
        "df.head()"
      ],
      "metadata": {
        "colab": {
          "base_uri": "https://localhost:8080/",
          "height": 206
        },
        "id": "lp85YGB45TdH",
        "outputId": "3cb56511-0d8c-4178-bdc5-9d74c362667b"
      },
      "execution_count": 8,
      "outputs": [
        {
          "output_type": "execute_result",
          "data": {
            "text/plain": [
              "   carat      cut color clarity  depth  table  price   'x'   'y'   'z'\n",
              "0   0.23    Ideal     E     SI2   61.5   55.0  326.0  3.95  3.98  2.43\n",
              "1   0.21  Premium     E     SI1   59.8   61.0  326.0  3.89  3.84  2.31\n",
              "2   0.23     Good     E     VS1   56.9   65.0  327.0  4.05  4.07  2.31\n",
              "3   0.29  Premium     I     VS2   62.4   58.0  334.0  4.20  4.23  2.63\n",
              "4   0.31     Good     J     SI2   63.3   58.0  335.0  4.34  4.35  2.75"
            ],
            "text/html": [
              "\n",
              "  <div id=\"df-f3c5a1c0-3add-49f8-85e9-670dfbc1da5c\">\n",
              "    <div class=\"colab-df-container\">\n",
              "      <div>\n",
              "<style scoped>\n",
              "    .dataframe tbody tr th:only-of-type {\n",
              "        vertical-align: middle;\n",
              "    }\n",
              "\n",
              "    .dataframe tbody tr th {\n",
              "        vertical-align: top;\n",
              "    }\n",
              "\n",
              "    .dataframe thead th {\n",
              "        text-align: right;\n",
              "    }\n",
              "</style>\n",
              "<table border=\"1\" class=\"dataframe\">\n",
              "  <thead>\n",
              "    <tr style=\"text-align: right;\">\n",
              "      <th></th>\n",
              "      <th>carat</th>\n",
              "      <th>cut</th>\n",
              "      <th>color</th>\n",
              "      <th>clarity</th>\n",
              "      <th>depth</th>\n",
              "      <th>table</th>\n",
              "      <th>price</th>\n",
              "      <th>'x'</th>\n",
              "      <th>'y'</th>\n",
              "      <th>'z'</th>\n",
              "    </tr>\n",
              "  </thead>\n",
              "  <tbody>\n",
              "    <tr>\n",
              "      <th>0</th>\n",
              "      <td>0.23</td>\n",
              "      <td>Ideal</td>\n",
              "      <td>E</td>\n",
              "      <td>SI2</td>\n",
              "      <td>61.5</td>\n",
              "      <td>55.0</td>\n",
              "      <td>326.0</td>\n",
              "      <td>3.95</td>\n",
              "      <td>3.98</td>\n",
              "      <td>2.43</td>\n",
              "    </tr>\n",
              "    <tr>\n",
              "      <th>1</th>\n",
              "      <td>0.21</td>\n",
              "      <td>Premium</td>\n",
              "      <td>E</td>\n",
              "      <td>SI1</td>\n",
              "      <td>59.8</td>\n",
              "      <td>61.0</td>\n",
              "      <td>326.0</td>\n",
              "      <td>3.89</td>\n",
              "      <td>3.84</td>\n",
              "      <td>2.31</td>\n",
              "    </tr>\n",
              "    <tr>\n",
              "      <th>2</th>\n",
              "      <td>0.23</td>\n",
              "      <td>Good</td>\n",
              "      <td>E</td>\n",
              "      <td>VS1</td>\n",
              "      <td>56.9</td>\n",
              "      <td>65.0</td>\n",
              "      <td>327.0</td>\n",
              "      <td>4.05</td>\n",
              "      <td>4.07</td>\n",
              "      <td>2.31</td>\n",
              "    </tr>\n",
              "    <tr>\n",
              "      <th>3</th>\n",
              "      <td>0.29</td>\n",
              "      <td>Premium</td>\n",
              "      <td>I</td>\n",
              "      <td>VS2</td>\n",
              "      <td>62.4</td>\n",
              "      <td>58.0</td>\n",
              "      <td>334.0</td>\n",
              "      <td>4.20</td>\n",
              "      <td>4.23</td>\n",
              "      <td>2.63</td>\n",
              "    </tr>\n",
              "    <tr>\n",
              "      <th>4</th>\n",
              "      <td>0.31</td>\n",
              "      <td>Good</td>\n",
              "      <td>J</td>\n",
              "      <td>SI2</td>\n",
              "      <td>63.3</td>\n",
              "      <td>58.0</td>\n",
              "      <td>335.0</td>\n",
              "      <td>4.34</td>\n",
              "      <td>4.35</td>\n",
              "      <td>2.75</td>\n",
              "    </tr>\n",
              "  </tbody>\n",
              "</table>\n",
              "</div>\n",
              "      <button class=\"colab-df-convert\" onclick=\"convertToInteractive('df-f3c5a1c0-3add-49f8-85e9-670dfbc1da5c')\"\n",
              "              title=\"Convert this dataframe to an interactive table.\"\n",
              "              style=\"display:none;\">\n",
              "        \n",
              "  <svg xmlns=\"http://www.w3.org/2000/svg\" height=\"24px\"viewBox=\"0 0 24 24\"\n",
              "       width=\"24px\">\n",
              "    <path d=\"M0 0h24v24H0V0z\" fill=\"none\"/>\n",
              "    <path d=\"M18.56 5.44l.94 2.06.94-2.06 2.06-.94-2.06-.94-.94-2.06-.94 2.06-2.06.94zm-11 1L8.5 8.5l.94-2.06 2.06-.94-2.06-.94L8.5 2.5l-.94 2.06-2.06.94zm10 10l.94 2.06.94-2.06 2.06-.94-2.06-.94-.94-2.06-.94 2.06-2.06.94z\"/><path d=\"M17.41 7.96l-1.37-1.37c-.4-.4-.92-.59-1.43-.59-.52 0-1.04.2-1.43.59L10.3 9.45l-7.72 7.72c-.78.78-.78 2.05 0 2.83L4 21.41c.39.39.9.59 1.41.59.51 0 1.02-.2 1.41-.59l7.78-7.78 2.81-2.81c.8-.78.8-2.07 0-2.86zM5.41 20L4 18.59l7.72-7.72 1.47 1.35L5.41 20z\"/>\n",
              "  </svg>\n",
              "      </button>\n",
              "      \n",
              "  <style>\n",
              "    .colab-df-container {\n",
              "      display:flex;\n",
              "      flex-wrap:wrap;\n",
              "      gap: 12px;\n",
              "    }\n",
              "\n",
              "    .colab-df-convert {\n",
              "      background-color: #E8F0FE;\n",
              "      border: none;\n",
              "      border-radius: 50%;\n",
              "      cursor: pointer;\n",
              "      display: none;\n",
              "      fill: #1967D2;\n",
              "      height: 32px;\n",
              "      padding: 0 0 0 0;\n",
              "      width: 32px;\n",
              "    }\n",
              "\n",
              "    .colab-df-convert:hover {\n",
              "      background-color: #E2EBFA;\n",
              "      box-shadow: 0px 1px 2px rgba(60, 64, 67, 0.3), 0px 1px 3px 1px rgba(60, 64, 67, 0.15);\n",
              "      fill: #174EA6;\n",
              "    }\n",
              "\n",
              "    [theme=dark] .colab-df-convert {\n",
              "      background-color: #3B4455;\n",
              "      fill: #D2E3FC;\n",
              "    }\n",
              "\n",
              "    [theme=dark] .colab-df-convert:hover {\n",
              "      background-color: #434B5C;\n",
              "      box-shadow: 0px 1px 3px 1px rgba(0, 0, 0, 0.15);\n",
              "      filter: drop-shadow(0px 1px 2px rgba(0, 0, 0, 0.3));\n",
              "      fill: #FFFFFF;\n",
              "    }\n",
              "  </style>\n",
              "\n",
              "      <script>\n",
              "        const buttonEl =\n",
              "          document.querySelector('#df-f3c5a1c0-3add-49f8-85e9-670dfbc1da5c button.colab-df-convert');\n",
              "        buttonEl.style.display =\n",
              "          google.colab.kernel.accessAllowed ? 'block' : 'none';\n",
              "\n",
              "        async function convertToInteractive(key) {\n",
              "          const element = document.querySelector('#df-f3c5a1c0-3add-49f8-85e9-670dfbc1da5c');\n",
              "          const dataTable =\n",
              "            await google.colab.kernel.invokeFunction('convertToInteractive',\n",
              "                                                     [key], {});\n",
              "          if (!dataTable) return;\n",
              "\n",
              "          const docLinkHtml = 'Like what you see? Visit the ' +\n",
              "            '<a target=\"_blank\" href=https://colab.research.google.com/notebooks/data_table.ipynb>data table notebook</a>'\n",
              "            + ' to learn more about interactive tables.';\n",
              "          element.innerHTML = '';\n",
              "          dataTable['output_type'] = 'display_data';\n",
              "          await google.colab.output.renderOutput(dataTable, element);\n",
              "          const docLink = document.createElement('div');\n",
              "          docLink.innerHTML = docLinkHtml;\n",
              "          element.appendChild(docLink);\n",
              "        }\n",
              "      </script>\n",
              "    </div>\n",
              "  </div>\n",
              "  "
            ]
          },
          "metadata": {},
          "execution_count": 8
        }
      ]
    },
    {
      "cell_type": "markdown",
      "source": [
        "Now, we will see if there are any duplicates in the data frame. \n",
        "\n"
      ],
      "metadata": {
        "id": "Yr59W8j8OKZ_"
      }
    },
    {
      "cell_type": "code",
      "source": [
        "df[df.duplicated()]"
      ],
      "metadata": {
        "colab": {
          "base_uri": "https://localhost:8080/",
          "height": 423
        },
        "id": "PR19bVnAOI5V",
        "outputId": "5a671ecf-0482-4bf8-a31f-c53e64dd3bcc"
      },
      "execution_count": 9,
      "outputs": [
        {
          "output_type": "execute_result",
          "data": {
            "text/plain": [
              "       carat    cut color clarity  depth  table   price   'x'   'y'   'z'\n",
              "1005    0.79  Ideal     G     SI1   62.3   57.0  2898.0  5.90  5.85  3.66\n",
              "1006    0.79  Ideal     G     SI1   62.3   57.0  2898.0  5.90  5.85  3.66\n",
              "1007    0.79  Ideal     G     SI1   62.3   57.0  2898.0  5.90  5.85  3.66\n",
              "1008    0.79  Ideal     G     SI1   62.3   57.0  2898.0  5.90  5.85  3.66\n",
              "2025    1.52   Good     E      I1   57.3   58.0  3105.0  7.53  7.42  4.28\n",
              "...      ...    ...   ...     ...    ...    ...     ...   ...   ...   ...\n",
              "47969   0.52  Ideal     D     VS2   61.8   55.0  1919.0  5.19  5.16  3.20\n",
              "49326   0.51  Ideal     F    VVS2   61.2   56.0  2093.0  5.17  5.19  3.17\n",
              "49557   0.71   Good     F     SI2   64.1   60.0  2130.0  0.00  0.00  0.00\n",
              "50079   0.51  Ideal     F    VVS2   61.2   56.0  2203.0  5.19  5.17  3.17\n",
              "52861   0.50   Fair     E     VS2   79.0   73.0  2579.0  5.21  5.18  4.09\n",
              "\n",
              "[146 rows x 10 columns]"
            ],
            "text/html": [
              "\n",
              "  <div id=\"df-b504364e-dfee-484d-87c4-707fbd3fc780\">\n",
              "    <div class=\"colab-df-container\">\n",
              "      <div>\n",
              "<style scoped>\n",
              "    .dataframe tbody tr th:only-of-type {\n",
              "        vertical-align: middle;\n",
              "    }\n",
              "\n",
              "    .dataframe tbody tr th {\n",
              "        vertical-align: top;\n",
              "    }\n",
              "\n",
              "    .dataframe thead th {\n",
              "        text-align: right;\n",
              "    }\n",
              "</style>\n",
              "<table border=\"1\" class=\"dataframe\">\n",
              "  <thead>\n",
              "    <tr style=\"text-align: right;\">\n",
              "      <th></th>\n",
              "      <th>carat</th>\n",
              "      <th>cut</th>\n",
              "      <th>color</th>\n",
              "      <th>clarity</th>\n",
              "      <th>depth</th>\n",
              "      <th>table</th>\n",
              "      <th>price</th>\n",
              "      <th>'x'</th>\n",
              "      <th>'y'</th>\n",
              "      <th>'z'</th>\n",
              "    </tr>\n",
              "  </thead>\n",
              "  <tbody>\n",
              "    <tr>\n",
              "      <th>1005</th>\n",
              "      <td>0.79</td>\n",
              "      <td>Ideal</td>\n",
              "      <td>G</td>\n",
              "      <td>SI1</td>\n",
              "      <td>62.3</td>\n",
              "      <td>57.0</td>\n",
              "      <td>2898.0</td>\n",
              "      <td>5.90</td>\n",
              "      <td>5.85</td>\n",
              "      <td>3.66</td>\n",
              "    </tr>\n",
              "    <tr>\n",
              "      <th>1006</th>\n",
              "      <td>0.79</td>\n",
              "      <td>Ideal</td>\n",
              "      <td>G</td>\n",
              "      <td>SI1</td>\n",
              "      <td>62.3</td>\n",
              "      <td>57.0</td>\n",
              "      <td>2898.0</td>\n",
              "      <td>5.90</td>\n",
              "      <td>5.85</td>\n",
              "      <td>3.66</td>\n",
              "    </tr>\n",
              "    <tr>\n",
              "      <th>1007</th>\n",
              "      <td>0.79</td>\n",
              "      <td>Ideal</td>\n",
              "      <td>G</td>\n",
              "      <td>SI1</td>\n",
              "      <td>62.3</td>\n",
              "      <td>57.0</td>\n",
              "      <td>2898.0</td>\n",
              "      <td>5.90</td>\n",
              "      <td>5.85</td>\n",
              "      <td>3.66</td>\n",
              "    </tr>\n",
              "    <tr>\n",
              "      <th>1008</th>\n",
              "      <td>0.79</td>\n",
              "      <td>Ideal</td>\n",
              "      <td>G</td>\n",
              "      <td>SI1</td>\n",
              "      <td>62.3</td>\n",
              "      <td>57.0</td>\n",
              "      <td>2898.0</td>\n",
              "      <td>5.90</td>\n",
              "      <td>5.85</td>\n",
              "      <td>3.66</td>\n",
              "    </tr>\n",
              "    <tr>\n",
              "      <th>2025</th>\n",
              "      <td>1.52</td>\n",
              "      <td>Good</td>\n",
              "      <td>E</td>\n",
              "      <td>I1</td>\n",
              "      <td>57.3</td>\n",
              "      <td>58.0</td>\n",
              "      <td>3105.0</td>\n",
              "      <td>7.53</td>\n",
              "      <td>7.42</td>\n",
              "      <td>4.28</td>\n",
              "    </tr>\n",
              "    <tr>\n",
              "      <th>...</th>\n",
              "      <td>...</td>\n",
              "      <td>...</td>\n",
              "      <td>...</td>\n",
              "      <td>...</td>\n",
              "      <td>...</td>\n",
              "      <td>...</td>\n",
              "      <td>...</td>\n",
              "      <td>...</td>\n",
              "      <td>...</td>\n",
              "      <td>...</td>\n",
              "    </tr>\n",
              "    <tr>\n",
              "      <th>47969</th>\n",
              "      <td>0.52</td>\n",
              "      <td>Ideal</td>\n",
              "      <td>D</td>\n",
              "      <td>VS2</td>\n",
              "      <td>61.8</td>\n",
              "      <td>55.0</td>\n",
              "      <td>1919.0</td>\n",
              "      <td>5.19</td>\n",
              "      <td>5.16</td>\n",
              "      <td>3.20</td>\n",
              "    </tr>\n",
              "    <tr>\n",
              "      <th>49326</th>\n",
              "      <td>0.51</td>\n",
              "      <td>Ideal</td>\n",
              "      <td>F</td>\n",
              "      <td>VVS2</td>\n",
              "      <td>61.2</td>\n",
              "      <td>56.0</td>\n",
              "      <td>2093.0</td>\n",
              "      <td>5.17</td>\n",
              "      <td>5.19</td>\n",
              "      <td>3.17</td>\n",
              "    </tr>\n",
              "    <tr>\n",
              "      <th>49557</th>\n",
              "      <td>0.71</td>\n",
              "      <td>Good</td>\n",
              "      <td>F</td>\n",
              "      <td>SI2</td>\n",
              "      <td>64.1</td>\n",
              "      <td>60.0</td>\n",
              "      <td>2130.0</td>\n",
              "      <td>0.00</td>\n",
              "      <td>0.00</td>\n",
              "      <td>0.00</td>\n",
              "    </tr>\n",
              "    <tr>\n",
              "      <th>50079</th>\n",
              "      <td>0.51</td>\n",
              "      <td>Ideal</td>\n",
              "      <td>F</td>\n",
              "      <td>VVS2</td>\n",
              "      <td>61.2</td>\n",
              "      <td>56.0</td>\n",
              "      <td>2203.0</td>\n",
              "      <td>5.19</td>\n",
              "      <td>5.17</td>\n",
              "      <td>3.17</td>\n",
              "    </tr>\n",
              "    <tr>\n",
              "      <th>52861</th>\n",
              "      <td>0.50</td>\n",
              "      <td>Fair</td>\n",
              "      <td>E</td>\n",
              "      <td>VS2</td>\n",
              "      <td>79.0</td>\n",
              "      <td>73.0</td>\n",
              "      <td>2579.0</td>\n",
              "      <td>5.21</td>\n",
              "      <td>5.18</td>\n",
              "      <td>4.09</td>\n",
              "    </tr>\n",
              "  </tbody>\n",
              "</table>\n",
              "<p>146 rows × 10 columns</p>\n",
              "</div>\n",
              "      <button class=\"colab-df-convert\" onclick=\"convertToInteractive('df-b504364e-dfee-484d-87c4-707fbd3fc780')\"\n",
              "              title=\"Convert this dataframe to an interactive table.\"\n",
              "              style=\"display:none;\">\n",
              "        \n",
              "  <svg xmlns=\"http://www.w3.org/2000/svg\" height=\"24px\"viewBox=\"0 0 24 24\"\n",
              "       width=\"24px\">\n",
              "    <path d=\"M0 0h24v24H0V0z\" fill=\"none\"/>\n",
              "    <path d=\"M18.56 5.44l.94 2.06.94-2.06 2.06-.94-2.06-.94-.94-2.06-.94 2.06-2.06.94zm-11 1L8.5 8.5l.94-2.06 2.06-.94-2.06-.94L8.5 2.5l-.94 2.06-2.06.94zm10 10l.94 2.06.94-2.06 2.06-.94-2.06-.94-.94-2.06-.94 2.06-2.06.94z\"/><path d=\"M17.41 7.96l-1.37-1.37c-.4-.4-.92-.59-1.43-.59-.52 0-1.04.2-1.43.59L10.3 9.45l-7.72 7.72c-.78.78-.78 2.05 0 2.83L4 21.41c.39.39.9.59 1.41.59.51 0 1.02-.2 1.41-.59l7.78-7.78 2.81-2.81c.8-.78.8-2.07 0-2.86zM5.41 20L4 18.59l7.72-7.72 1.47 1.35L5.41 20z\"/>\n",
              "  </svg>\n",
              "      </button>\n",
              "      \n",
              "  <style>\n",
              "    .colab-df-container {\n",
              "      display:flex;\n",
              "      flex-wrap:wrap;\n",
              "      gap: 12px;\n",
              "    }\n",
              "\n",
              "    .colab-df-convert {\n",
              "      background-color: #E8F0FE;\n",
              "      border: none;\n",
              "      border-radius: 50%;\n",
              "      cursor: pointer;\n",
              "      display: none;\n",
              "      fill: #1967D2;\n",
              "      height: 32px;\n",
              "      padding: 0 0 0 0;\n",
              "      width: 32px;\n",
              "    }\n",
              "\n",
              "    .colab-df-convert:hover {\n",
              "      background-color: #E2EBFA;\n",
              "      box-shadow: 0px 1px 2px rgba(60, 64, 67, 0.3), 0px 1px 3px 1px rgba(60, 64, 67, 0.15);\n",
              "      fill: #174EA6;\n",
              "    }\n",
              "\n",
              "    [theme=dark] .colab-df-convert {\n",
              "      background-color: #3B4455;\n",
              "      fill: #D2E3FC;\n",
              "    }\n",
              "\n",
              "    [theme=dark] .colab-df-convert:hover {\n",
              "      background-color: #434B5C;\n",
              "      box-shadow: 0px 1px 3px 1px rgba(0, 0, 0, 0.15);\n",
              "      filter: drop-shadow(0px 1px 2px rgba(0, 0, 0, 0.3));\n",
              "      fill: #FFFFFF;\n",
              "    }\n",
              "  </style>\n",
              "\n",
              "      <script>\n",
              "        const buttonEl =\n",
              "          document.querySelector('#df-b504364e-dfee-484d-87c4-707fbd3fc780 button.colab-df-convert');\n",
              "        buttonEl.style.display =\n",
              "          google.colab.kernel.accessAllowed ? 'block' : 'none';\n",
              "\n",
              "        async function convertToInteractive(key) {\n",
              "          const element = document.querySelector('#df-b504364e-dfee-484d-87c4-707fbd3fc780');\n",
              "          const dataTable =\n",
              "            await google.colab.kernel.invokeFunction('convertToInteractive',\n",
              "                                                     [key], {});\n",
              "          if (!dataTable) return;\n",
              "\n",
              "          const docLinkHtml = 'Like what you see? Visit the ' +\n",
              "            '<a target=\"_blank\" href=https://colab.research.google.com/notebooks/data_table.ipynb>data table notebook</a>'\n",
              "            + ' to learn more about interactive tables.';\n",
              "          element.innerHTML = '';\n",
              "          dataTable['output_type'] = 'display_data';\n",
              "          await google.colab.output.renderOutput(dataTable, element);\n",
              "          const docLink = document.createElement('div');\n",
              "          docLink.innerHTML = docLinkHtml;\n",
              "          element.appendChild(docLink);\n",
              "        }\n",
              "      </script>\n",
              "    </div>\n",
              "  </div>\n",
              "  "
            ]
          },
          "metadata": {},
          "execution_count": 9
        }
      ]
    },
    {
      "cell_type": "markdown",
      "source": [
        "Now that we know there are duplicates we will remove them"
      ],
      "metadata": {
        "id": "FLbvRJDkPWd1"
      }
    },
    {
      "cell_type": "code",
      "source": [
        "df.drop_duplicates(inplace=True)"
      ],
      "metadata": {
        "id": "mF-Rk6Z8PVgn"
      },
      "execution_count": 10,
      "outputs": []
    },
    {
      "cell_type": "code",
      "source": [
        "df[df.duplicated()]"
      ],
      "metadata": {
        "colab": {
          "base_uri": "https://localhost:8080/",
          "height": 49
        },
        "id": "aW2Xkj8QPqkh",
        "outputId": "1498b41a-b098-44b6-aa25-19e3e9d9757d"
      },
      "execution_count": 11,
      "outputs": [
        {
          "output_type": "execute_result",
          "data": {
            "text/plain": [
              "Empty DataFrame\n",
              "Columns: [carat, cut, color, clarity, depth, table, price, 'x', 'y', 'z']\n",
              "Index: []"
            ],
            "text/html": [
              "\n",
              "  <div id=\"df-a8d3ce15-493a-4947-a010-5f60a6243cba\">\n",
              "    <div class=\"colab-df-container\">\n",
              "      <div>\n",
              "<style scoped>\n",
              "    .dataframe tbody tr th:only-of-type {\n",
              "        vertical-align: middle;\n",
              "    }\n",
              "\n",
              "    .dataframe tbody tr th {\n",
              "        vertical-align: top;\n",
              "    }\n",
              "\n",
              "    .dataframe thead th {\n",
              "        text-align: right;\n",
              "    }\n",
              "</style>\n",
              "<table border=\"1\" class=\"dataframe\">\n",
              "  <thead>\n",
              "    <tr style=\"text-align: right;\">\n",
              "      <th></th>\n",
              "      <th>carat</th>\n",
              "      <th>cut</th>\n",
              "      <th>color</th>\n",
              "      <th>clarity</th>\n",
              "      <th>depth</th>\n",
              "      <th>table</th>\n",
              "      <th>price</th>\n",
              "      <th>'x'</th>\n",
              "      <th>'y'</th>\n",
              "      <th>'z'</th>\n",
              "    </tr>\n",
              "  </thead>\n",
              "  <tbody>\n",
              "  </tbody>\n",
              "</table>\n",
              "</div>\n",
              "      <button class=\"colab-df-convert\" onclick=\"convertToInteractive('df-a8d3ce15-493a-4947-a010-5f60a6243cba')\"\n",
              "              title=\"Convert this dataframe to an interactive table.\"\n",
              "              style=\"display:none;\">\n",
              "        \n",
              "  <svg xmlns=\"http://www.w3.org/2000/svg\" height=\"24px\"viewBox=\"0 0 24 24\"\n",
              "       width=\"24px\">\n",
              "    <path d=\"M0 0h24v24H0V0z\" fill=\"none\"/>\n",
              "    <path d=\"M18.56 5.44l.94 2.06.94-2.06 2.06-.94-2.06-.94-.94-2.06-.94 2.06-2.06.94zm-11 1L8.5 8.5l.94-2.06 2.06-.94-2.06-.94L8.5 2.5l-.94 2.06-2.06.94zm10 10l.94 2.06.94-2.06 2.06-.94-2.06-.94-.94-2.06-.94 2.06-2.06.94z\"/><path d=\"M17.41 7.96l-1.37-1.37c-.4-.4-.92-.59-1.43-.59-.52 0-1.04.2-1.43.59L10.3 9.45l-7.72 7.72c-.78.78-.78 2.05 0 2.83L4 21.41c.39.39.9.59 1.41.59.51 0 1.02-.2 1.41-.59l7.78-7.78 2.81-2.81c.8-.78.8-2.07 0-2.86zM5.41 20L4 18.59l7.72-7.72 1.47 1.35L5.41 20z\"/>\n",
              "  </svg>\n",
              "      </button>\n",
              "      \n",
              "  <style>\n",
              "    .colab-df-container {\n",
              "      display:flex;\n",
              "      flex-wrap:wrap;\n",
              "      gap: 12px;\n",
              "    }\n",
              "\n",
              "    .colab-df-convert {\n",
              "      background-color: #E8F0FE;\n",
              "      border: none;\n",
              "      border-radius: 50%;\n",
              "      cursor: pointer;\n",
              "      display: none;\n",
              "      fill: #1967D2;\n",
              "      height: 32px;\n",
              "      padding: 0 0 0 0;\n",
              "      width: 32px;\n",
              "    }\n",
              "\n",
              "    .colab-df-convert:hover {\n",
              "      background-color: #E2EBFA;\n",
              "      box-shadow: 0px 1px 2px rgba(60, 64, 67, 0.3), 0px 1px 3px 1px rgba(60, 64, 67, 0.15);\n",
              "      fill: #174EA6;\n",
              "    }\n",
              "\n",
              "    [theme=dark] .colab-df-convert {\n",
              "      background-color: #3B4455;\n",
              "      fill: #D2E3FC;\n",
              "    }\n",
              "\n",
              "    [theme=dark] .colab-df-convert:hover {\n",
              "      background-color: #434B5C;\n",
              "      box-shadow: 0px 1px 3px 1px rgba(0, 0, 0, 0.15);\n",
              "      filter: drop-shadow(0px 1px 2px rgba(0, 0, 0, 0.3));\n",
              "      fill: #FFFFFF;\n",
              "    }\n",
              "  </style>\n",
              "\n",
              "      <script>\n",
              "        const buttonEl =\n",
              "          document.querySelector('#df-a8d3ce15-493a-4947-a010-5f60a6243cba button.colab-df-convert');\n",
              "        buttonEl.style.display =\n",
              "          google.colab.kernel.accessAllowed ? 'block' : 'none';\n",
              "\n",
              "        async function convertToInteractive(key) {\n",
              "          const element = document.querySelector('#df-a8d3ce15-493a-4947-a010-5f60a6243cba');\n",
              "          const dataTable =\n",
              "            await google.colab.kernel.invokeFunction('convertToInteractive',\n",
              "                                                     [key], {});\n",
              "          if (!dataTable) return;\n",
              "\n",
              "          const docLinkHtml = 'Like what you see? Visit the ' +\n",
              "            '<a target=\"_blank\" href=https://colab.research.google.com/notebooks/data_table.ipynb>data table notebook</a>'\n",
              "            + ' to learn more about interactive tables.';\n",
              "          element.innerHTML = '';\n",
              "          dataTable['output_type'] = 'display_data';\n",
              "          await google.colab.output.renderOutput(dataTable, element);\n",
              "          const docLink = document.createElement('div');\n",
              "          docLink.innerHTML = docLinkHtml;\n",
              "          element.appendChild(docLink);\n",
              "        }\n",
              "      </script>\n",
              "    </div>\n",
              "  </div>\n",
              "  "
            ]
          },
          "metadata": {},
          "execution_count": 11
        }
      ]
    },
    {
      "cell_type": "markdown",
      "source": [
        "# Data Analysis"
      ],
      "metadata": {
        "id": "XM3HsltaM19j"
      }
    },
    {
      "cell_type": "code",
      "source": [
        "fig, ax = plt.subplots()\n",
        "fig.set_size_inches(12, 10)\n",
        "sns.histplot(df, x='price')"
      ],
      "metadata": {
        "colab": {
          "base_uri": "https://localhost:8080/",
          "height": 624
        },
        "id": "vOBKBQ67u8pt",
        "outputId": "dc09f23f-0fff-4801-cc49-a56ed5f9f269"
      },
      "execution_count": 17,
      "outputs": [
        {
          "output_type": "execute_result",
          "data": {
            "text/plain": [
              "<Axes: xlabel='price', ylabel='Count'>"
            ]
          },
          "metadata": {},
          "execution_count": 17
        },
        {
          "output_type": "display_data",
          "data": {
            "text/plain": [
              "<Figure size 864x720 with 1 Axes>"
            ],
            "image/png": "[encoded data removed]"
          },
          "metadata": {
            "needs_background": "light"
          }
        }
      ]
    },
    {
      "cell_type": "markdown",
      "source": [
        "As shown above by the right skewed data there is a disproportionate number of diamonds that are valued below $2,500. Therefore, we can answer the question what price range are the majority of the diamonds in this data set."
      ],
      "metadata": {
        "id": "e7kVCUsFxZaG"
      }
    },
    {
      "cell_type": "code",
      "source": [
        "fig, ax = plt.subplots()\n",
        "fig.set_size_inches(12, 10)\n",
        "sns.boxplot(data=df, x='color', y='price', hue='cut')"
      ],
      "metadata": {
        "id": "BwZP6jrLu8fZ",
        "colab": {
          "base_uri": "https://localhost:8080/",
          "height": 624
        },
        "outputId": "e623ea26-61fd-4d51-b2ac-3fd50f9f7424"
      },
      "execution_count": 14,
      "outputs": [
        {
          "output_type": "execute_result",
          "data": {
            "text/plain": [
              "<Axes: xlabel='color', ylabel='price'>"
            ]
          },
          "metadata": {},
          "execution_count": 14
        },
        {
          "output_type": "display_data",
          "data": {
            "text/plain": [
              "<Figure size 864x720 with 1 Axes>"
            ],
            "image/png": "[encoded data removed]"
          },
          "metadata": {
            "needs_background": "light"
          }
        }
      ]
    },
    {
      "cell_type": "markdown",
      "source": [
        "From the given data the box plots show that:\n",
        "\n",
        "*   Premium J color diamonds have the highest median value.\n",
        "\n",
        "*   Ideal E color diamonds have the lowest median value.\n",
        "\n",
        "This result goes against GIA information. According to GIA D and E diamonds are the most rare therefore likely most expensive. This is not shown in the median prices of the box plots. There is however another possibility, the data may reflect an unproportial small carat size for the E and D diamonds. Meanwhile there may be more large carat size J diamonds in the data set.\n",
        "\n",
        "\n",
        "\n"
      ],
      "metadata": {
        "id": "s6diX4ZjHHev"
      }
    },
    {
      "cell_type": "code",
      "source": [
        "fig, ax = plt.subplots()\n",
        "fig.set_size_inches(12, 10)\n",
        "sns.histplot(df, x='carat', bins = 25)"
      ],
      "metadata": {
        "colab": {
          "base_uri": "https://localhost:8080/",
          "height": 624
        },
        "id": "gdcZ0eEvKa9T",
        "outputId": "ffa3f263-fac3-4187-c4ef-edbbe73bd26e"
      },
      "execution_count": 38,
      "outputs": [
        {
          "output_type": "execute_result",
          "data": {
            "text/plain": [
              "<Axes: xlabel='carat', ylabel='Count'>"
            ]
          },
          "metadata": {},
          "execution_count": 38
        },
        {
          "output_type": "display_data",
          "data": {
            "text/plain": [
              "<Figure size 864x720 with 1 Axes>"
            ],
            "image/png": "[encoded data removed]"
          },
          "metadata": {
            "needs_background": "light"
          }
        }
      ]
    },
    {
      "cell_type": "markdown",
      "source": [
        "The data is right skewed showing that there is a large number of diamonds in the data set that are 1 carat or below in size.\n"
      ],
      "metadata": {
        "id": "jEuzrLwENb3B"
      }
    },
    {
      "cell_type": "code",
      "source": [
        "fig, ax = plt.subplots()\n",
        "fig.set_size_inches(14, 12)\n",
        "df.groupby('color')['carat'].median().plot(kind='bar', rot = 0, title= 'Median Carat of Diamonds by Color')"
      ],
      "metadata": {
        "colab": {
          "base_uri": "https://localhost:8080/",
          "height": 748
        },
        "id": "i9rFi5nVfUEU",
        "outputId": "b1434af3-b0f1-44bd-f4fb-fed4d9820e5a"
      },
      "execution_count": 36,
      "outputs": [
        {
          "output_type": "execute_result",
          "data": {
            "text/plain": [
              "<Axes: title={'center': 'Median Carat of Diamonds by Color'}, xlabel='color'>"
            ]
          },
          "metadata": {},
          "execution_count": 36
        },
        {
          "output_type": "display_data",
          "data": {
            "text/plain": [
              "<Figure size 1008x864 with 1 Axes>"
            ],
            "image/png": "[encoded data removed]"
          },
          "metadata": {
            "needs_background": "light"
          }
        }
      ]
    },
    {
      "cell_type": "code",
      "source": [
        "df.groupby('color')['carat'].agg([min, max, np.median, np.mean])"
      ],
      "metadata": {
        "colab": {
          "base_uri": "https://localhost:8080/",
          "height": 300
        },
        "id": "gEICGWA9kaC0",
        "outputId": "8344f922-7354-4f88-949e-e870a460e0c2"
      },
      "execution_count": 35,
      "outputs": [
        {
          "output_type": "execute_result",
          "data": {
            "text/plain": [
              "        min   max  median      mean\n",
              "color                              \n",
              "D      0.20  3.40    0.53  0.658315\n",
              "E      0.20  3.05    0.53  0.657957\n",
              "F      0.20  3.01    0.70  0.736664\n",
              "G      0.23  3.01    0.70  0.771273\n",
              "H      0.23  4.13    0.90  0.911029\n",
              "I      0.23  4.01    1.00  1.025197\n",
              "J      0.23  5.01    1.11  1.162841"
            ],
            "text/html": [
              "\n",
              "  <div id=\"df-c0261c4f-8d6a-4ff8-bbe5-4d2fe6cd2f24\">\n",
              "    <div class=\"colab-df-container\">\n",
              "      <div>\n",
              "<style scoped>\n",
              "    .dataframe tbody tr th:only-of-type {\n",
              "        vertical-align: middle;\n",
              "    }\n",
              "\n",
              "    .dataframe tbody tr th {\n",
              "        vertical-align: top;\n",
              "    }\n",
              "\n",
              "    .dataframe thead th {\n",
              "        text-align: right;\n",
              "    }\n",
              "</style>\n",
              "<table border=\"1\" class=\"dataframe\">\n",
              "  <thead>\n",
              "    <tr style=\"text-align: right;\">\n",
              "      <th></th>\n",
              "      <th>min</th>\n",
              "      <th>max</th>\n",
              "      <th>median</th>\n",
              "      <th>mean</th>\n",
              "    </tr>\n",
              "    <tr>\n",
              "      <th>color</th>\n",
              "      <th></th>\n",
              "      <th></th>\n",
              "      <th></th>\n",
              "      <th></th>\n",
              "    </tr>\n",
              "  </thead>\n",
              "  <tbody>\n",
              "    <tr>\n",
              "      <th>D</th>\n",
              "      <td>0.20</td>\n",
              "      <td>3.40</td>\n",
              "      <td>0.53</td>\n",
              "      <td>0.658315</td>\n",
              "    </tr>\n",
              "    <tr>\n",
              "      <th>E</th>\n",
              "      <td>0.20</td>\n",
              "      <td>3.05</td>\n",
              "      <td>0.53</td>\n",
              "      <td>0.657957</td>\n",
              "    </tr>\n",
              "    <tr>\n",
              "      <th>F</th>\n",
              "      <td>0.20</td>\n",
              "      <td>3.01</td>\n",
              "      <td>0.70</td>\n",
              "      <td>0.736664</td>\n",
              "    </tr>\n",
              "    <tr>\n",
              "      <th>G</th>\n",
              "      <td>0.23</td>\n",
              "      <td>3.01</td>\n",
              "      <td>0.70</td>\n",
              "      <td>0.771273</td>\n",
              "    </tr>\n",
              "    <tr>\n",
              "      <th>H</th>\n",
              "      <td>0.23</td>\n",
              "      <td>4.13</td>\n",
              "      <td>0.90</td>\n",
              "      <td>0.911029</td>\n",
              "    </tr>\n",
              "    <tr>\n",
              "      <th>I</th>\n",
              "      <td>0.23</td>\n",
              "      <td>4.01</td>\n",
              "      <td>1.00</td>\n",
              "      <td>1.025197</td>\n",
              "    </tr>\n",
              "    <tr>\n",
              "      <th>J</th>\n",
              "      <td>0.23</td>\n",
              "      <td>5.01</td>\n",
              "      <td>1.11</td>\n",
              "      <td>1.162841</td>\n",
              "    </tr>\n",
              "  </tbody>\n",
              "</table>\n",
              "</div>\n",
              "      <button class=\"colab-df-convert\" onclick=\"convertToInteractive('df-c0261c4f-8d6a-4ff8-bbe5-4d2fe6cd2f24')\"\n",
              "              title=\"Convert this dataframe to an interactive table.\"\n",
              "              style=\"display:none;\">\n",
              "        \n",
              "  <svg xmlns=\"http://www.w3.org/2000/svg\" height=\"24px\"viewBox=\"0 0 24 24\"\n",
              "       width=\"24px\">\n",
              "    <path d=\"M0 0h24v24H0V0z\" fill=\"none\"/>\n",
              "    <path d=\"M18.56 5.44l.94 2.06.94-2.06 2.06-.94-2.06-.94-.94-2.06-.94 2.06-2.06.94zm-11 1L8.5 8.5l.94-2.06 2.06-.94-2.06-.94L8.5 2.5l-.94 2.06-2.06.94zm10 10l.94 2.06.94-2.06 2.06-.94-2.06-.94-.94-2.06-.94 2.06-2.06.94z\"/><path d=\"M17.41 7.96l-1.37-1.37c-.4-.4-.92-.59-1.43-.59-.52 0-1.04.2-1.43.59L10.3 9.45l-7.72 7.72c-.78.78-.78 2.05 0 2.83L4 21.41c.39.39.9.59 1.41.59.51 0 1.02-.2 1.41-.59l7.78-7.78 2.81-2.81c.8-.78.8-2.07 0-2.86zM5.41 20L4 18.59l7.72-7.72 1.47 1.35L5.41 20z\"/>\n",
              "  </svg>\n",
              "      </button>\n",
              "      \n",
              "  <style>\n",
              "    .colab-df-container {\n",
              "      display:flex;\n",
              "      flex-wrap:wrap;\n",
              "      gap: 12px;\n",
              "    }\n",
              "\n",
              "    .colab-df-convert {\n",
              "      background-color: #E8F0FE;\n",
              "      border: none;\n",
              "      border-radius: 50%;\n",
              "      cursor: pointer;\n",
              "      display: none;\n",
              "      fill: #1967D2;\n",
              "      height: 32px;\n",
              "      padding: 0 0 0 0;\n",
              "      width: 32px;\n",
              "    }\n",
              "\n",
              "    .colab-df-convert:hover {\n",
              "      background-color: #E2EBFA;\n",
              "      box-shadow: 0px 1px 2px rgba(60, 64, 67, 0.3), 0px 1px 3px 1px rgba(60, 64, 67, 0.15);\n",
              "      fill: #174EA6;\n",
              "    }\n",
              "\n",
              "    [theme=dark] .colab-df-convert {\n",
              "      background-color: #3B4455;\n",
              "      fill: #D2E3FC;\n",
              "    }\n",
              "\n",
              "    [theme=dark] .colab-df-convert:hover {\n",
              "      background-color: #434B5C;\n",
              "      box-shadow: 0px 1px 3px 1px rgba(0, 0, 0, 0.15);\n",
              "      filter: drop-shadow(0px 1px 2px rgba(0, 0, 0, 0.3));\n",
              "      fill: #FFFFFF;\n",
              "    }\n",
              "  </style>\n",
              "\n",
              "      <script>\n",
              "        const buttonEl =\n",
              "          document.querySelector('#df-c0261c4f-8d6a-4ff8-bbe5-4d2fe6cd2f24 button.colab-df-convert');\n",
              "        buttonEl.style.display =\n",
              "          google.colab.kernel.accessAllowed ? 'block' : 'none';\n",
              "\n",
              "        async function convertToInteractive(key) {\n",
              "          const element = document.querySelector('#df-c0261c4f-8d6a-4ff8-bbe5-4d2fe6cd2f24');\n",
              "          const dataTable =\n",
              "            await google.colab.kernel.invokeFunction('convertToInteractive',\n",
              "                                                     [key], {});\n",
              "          if (!dataTable) return;\n",
              "\n",
              "          const docLinkHtml = 'Like what you see? Visit the ' +\n",
              "            '<a target=\"_blank\" href=https://colab.research.google.com/notebooks/data_table.ipynb>data table notebook</a>'\n",
              "            + ' to learn more about interactive tables.';\n",
              "          element.innerHTML = '';\n",
              "          dataTable['output_type'] = 'display_data';\n",
              "          await google.colab.output.renderOutput(dataTable, element);\n",
              "          const docLink = document.createElement('div');\n",
              "          docLink.innerHTML = docLinkHtml;\n",
              "          element.appendChild(docLink);\n",
              "        }\n",
              "      </script>\n",
              "    </div>\n",
              "  </div>\n",
              "  "
            ]
          },
          "metadata": {},
          "execution_count": 35
        }
      ]
    },
    {
      "cell_type": "markdown",
      "source": [
        "As suspected we see that the median carat size is greater for the I and J diamonds in the data set. While the median carat size for the D and E diamonds is less. "
      ],
      "metadata": {
        "id": "vh3WY4rgh48x"
      }
    },
    {
      "cell_type": "code",
      "source": [
        "fig, ax = plt.subplots()\n",
        "fig.set_size_inches(14, 12)\n",
        "sns.boxplot(data=df, x='color', y='carat', hue='cut')"
      ],
      "metadata": {
        "id": "mNWQ8l9Ru8cS",
        "colab": {
          "base_uri": "https://localhost:8080/",
          "height": 732
        },
        "outputId": "bdbe078e-b085-47e7-a635-5dbc01b4cebf"
      },
      "execution_count": 37,
      "outputs": [
        {
          "output_type": "execute_result",
          "data": {
            "text/plain": [
              "<Axes: xlabel='color', ylabel='carat'>"
            ]
          },
          "metadata": {},
          "execution_count": 37
        },
        {
          "output_type": "display_data",
          "data": {
            "text/plain": [
              "<Figure size 1008x864 with 1 Axes>"
            ],
            "image/png": "[encoded data removed]"
          },
          "metadata": {
            "needs_background": "light"
          }
        }
      ]
    },
    {
      "cell_type": "markdown",
      "source": [
        "Again, based on the box plots of the data it appears that the median carat size of the I and J diamonds is greater than the median carat size of the E and D diamonds in the data set. "
      ],
      "metadata": {
        "id": "jZYUhreGLtMI"
      }
    },
    {
      "cell_type": "markdown",
      "source": [
        "#  More coming soon"
      ],
      "metadata": {
        "id": "xOykLhbe3LBB"
      }
    },
    {
      "cell_type": "code",
      "source": [
        "\n",
        "df1 = df.groupby(['color', 'clarity'])['price']\n"
      ],
      "metadata": {
        "id": "pN7t8IOGfTsf"
      },
      "execution_count": 65,
      "outputs": []
    },
    {
      "cell_type": "code",
      "source": [
        "fig, ax = plt.subplots()\n",
        "fig.set_size_inches(14, 12)\n",
        "sns.barplot(x='color', y='price', hue='clarity', data=df)"
      ],
      "metadata": {
        "colab": {
          "base_uri": "https://localhost:8080/",
          "height": 732
        },
        "id": "lKxzfk8YoC1z",
        "outputId": "b0f65fda-dfec-43b9-a63b-ee98e6a591d9"
      },
      "execution_count": 67,
      "outputs": [
        {
          "output_type": "execute_result",
          "data": {
            "text/plain": [
              "<Axes: xlabel='color', ylabel='price'>"
            ]
          },
          "metadata": {},
          "execution_count": 67
        },
        {
          "output_type": "display_data",
          "data": {
            "text/plain": [
              "<Figure size 1008x864 with 1 Axes>"
            ],
            "image/png": "[encoded data removed]"
          },
          "metadata": {
            "needs_background": "light"
          }
        }
      ]
    },
    {
      "cell_type": "markdown",
      "source": [],
      "metadata": {
        "id": "zzvZdrojqxes"
      }
    },
    {
      "cell_type": "code",
      "source": [
        "df2 = df.groupby(['color', 'clarity'])['carat']"
      ],
      "metadata": {
        "id": "bpxdUHs6oXjZ"
      },
      "execution_count": 68,
      "outputs": []
    },
    {
      "cell_type": "code",
      "source": [
        "fig, ax = plt.subplots()\n",
        "fig.set_size_inches(14, 12)\n",
        "sns.barplot(x='color', y='carat', hue='clarity', data=df)"
      ],
      "metadata": {
        "colab": {
          "base_uri": "https://localhost:8080/",
          "height": 732
        },
        "id": "VInarx9uq7Ut",
        "outputId": "b4cd0e4f-ae05-4600-cc43-8700150ff66b"
      },
      "execution_count": 69,
      "outputs": [
        {
          "output_type": "execute_result",
          "data": {
            "text/plain": [
              "<Axes: xlabel='color', ylabel='carat'>"
            ]
          },
          "metadata": {},
          "execution_count": 69
        },
        {
          "output_type": "display_data",
          "data": {
            "text/plain": [
              "<Figure size 1008x864 with 1 Axes>"
            ],
            "image/png": "[encoded data removed]"
          },
          "metadata": {
            "needs_background": "light"
          }
        }
      ]
    }
  ]
}